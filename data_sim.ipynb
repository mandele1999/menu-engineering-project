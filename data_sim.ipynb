{
 "cells": [
  {
   "cell_type": "code",
   "execution_count": 5,
   "id": "0e17ade6",
   "metadata": {},
   "outputs": [
    {
     "data": {
      "application/vnd.microsoft.datawrangler.viewer.v0+json": {
       "columns": [
        {
         "name": "index",
         "rawType": "int64",
         "type": "integer"
        },
        {
         "name": "Date",
         "rawType": "object",
         "type": "string"
        },
        {
         "name": "Item Name",
         "rawType": "object",
         "type": "string"
        },
        {
         "name": "Category",
         "rawType": "object",
         "type": "string"
        },
        {
         "name": "Unit Price",
         "rawType": "int64",
         "type": "integer"
        },
        {
         "name": "Cost Price",
         "rawType": "int64",
         "type": "integer"
        },
        {
         "name": "Quantity Sold",
         "rawType": "int64",
         "type": "integer"
        },
        {
         "name": "Revenue",
         "rawType": "int64",
         "type": "integer"
        },
        {
         "name": "Gross Profit",
         "rawType": "int64",
         "type": "integer"
        }
       ],
       "ref": "de88394b-02f8-4607-a039-5cff2ef023d6",
       "rows": [
        [
         "0",
         "2023-06-01",
         "Grilled Chicken",
         "Main Course",
         "850",
         "420",
         "13",
         "11050",
         "5590"
        ],
        [
         "1",
         "2023-06-01",
         "Beef Burger",
         "Main Course",
         "650",
         "200",
         "1",
         "650",
         "450"
        ],
        [
         "2",
         "2023-06-01",
         "Vegetable Stir Fry",
         "Main Course",
         "500",
         "180",
         "4",
         "2000",
         "1280"
        ],
        [
         "3",
         "2023-06-01",
         "Margherita Pizza",
         "Main Course",
         "750",
         "300",
         "5",
         "3750",
         "2250"
        ],
        [
         "4",
         "2023-06-01",
         "Caesar Salad",
         "Appetizer",
         "400",
         "150",
         "12",
         "4800",
         "3000"
        ]
       ],
       "shape": {
        "columns": 8,
        "rows": 5
       }
      },
      "text/html": [
       "<div>\n",
       "<style scoped>\n",
       "    .dataframe tbody tr th:only-of-type {\n",
       "        vertical-align: middle;\n",
       "    }\n",
       "\n",
       "    .dataframe tbody tr th {\n",
       "        vertical-align: top;\n",
       "    }\n",
       "\n",
       "    .dataframe thead th {\n",
       "        text-align: right;\n",
       "    }\n",
       "</style>\n",
       "<table border=\"1\" class=\"dataframe\">\n",
       "  <thead>\n",
       "    <tr style=\"text-align: right;\">\n",
       "      <th></th>\n",
       "      <th>Date</th>\n",
       "      <th>Item Name</th>\n",
       "      <th>Category</th>\n",
       "      <th>Unit Price</th>\n",
       "      <th>Cost Price</th>\n",
       "      <th>Quantity Sold</th>\n",
       "      <th>Revenue</th>\n",
       "      <th>Gross Profit</th>\n",
       "    </tr>\n",
       "  </thead>\n",
       "  <tbody>\n",
       "    <tr>\n",
       "      <th>0</th>\n",
       "      <td>2023-06-01</td>\n",
       "      <td>Grilled Chicken</td>\n",
       "      <td>Main Course</td>\n",
       "      <td>850</td>\n",
       "      <td>420</td>\n",
       "      <td>13</td>\n",
       "      <td>11050</td>\n",
       "      <td>5590</td>\n",
       "    </tr>\n",
       "    <tr>\n",
       "      <th>1</th>\n",
       "      <td>2023-06-01</td>\n",
       "      <td>Beef Burger</td>\n",
       "      <td>Main Course</td>\n",
       "      <td>650</td>\n",
       "      <td>200</td>\n",
       "      <td>1</td>\n",
       "      <td>650</td>\n",
       "      <td>450</td>\n",
       "    </tr>\n",
       "    <tr>\n",
       "      <th>2</th>\n",
       "      <td>2023-06-01</td>\n",
       "      <td>Vegetable Stir Fry</td>\n",
       "      <td>Main Course</td>\n",
       "      <td>500</td>\n",
       "      <td>180</td>\n",
       "      <td>4</td>\n",
       "      <td>2000</td>\n",
       "      <td>1280</td>\n",
       "    </tr>\n",
       "    <tr>\n",
       "      <th>3</th>\n",
       "      <td>2023-06-01</td>\n",
       "      <td>Margherita Pizza</td>\n",
       "      <td>Main Course</td>\n",
       "      <td>750</td>\n",
       "      <td>300</td>\n",
       "      <td>5</td>\n",
       "      <td>3750</td>\n",
       "      <td>2250</td>\n",
       "    </tr>\n",
       "    <tr>\n",
       "      <th>4</th>\n",
       "      <td>2023-06-01</td>\n",
       "      <td>Caesar Salad</td>\n",
       "      <td>Appetizer</td>\n",
       "      <td>400</td>\n",
       "      <td>150</td>\n",
       "      <td>12</td>\n",
       "      <td>4800</td>\n",
       "      <td>3000</td>\n",
       "    </tr>\n",
       "  </tbody>\n",
       "</table>\n",
       "</div>"
      ],
      "text/plain": [
       "         Date           Item Name     Category  Unit Price  Cost Price  \\\n",
       "0  2023-06-01     Grilled Chicken  Main Course         850         420   \n",
       "1  2023-06-01         Beef Burger  Main Course         650         200   \n",
       "2  2023-06-01  Vegetable Stir Fry  Main Course         500         180   \n",
       "3  2023-06-01    Margherita Pizza  Main Course         750         300   \n",
       "4  2023-06-01        Caesar Salad    Appetizer         400         150   \n",
       "\n",
       "   Quantity Sold  Revenue  Gross Profit  \n",
       "0             13    11050          5590  \n",
       "1              1      650           450  \n",
       "2              4     2000          1280  \n",
       "3              5     3750          2250  \n",
       "4             12     4800          3000  "
      ]
     },
     "execution_count": 5,
     "metadata": {},
     "output_type": "execute_result"
    }
   ],
   "source": [
    "import pandas as pd\n",
    "import numpy as np\n",
    "import random\n",
    "from datetime import datetime, timedelta\n",
    "\n",
    "# Set seed for reproducibility\n",
    "np.random.seed(42)\n",
    "random.seed(42)\n",
    "\n",
    "# Simulate 30 days of data\n",
    "start_date = datetime(2023, 6, 1)\n",
    "end_date = datetime(2023, 6, 30)\n",
    "dates = pd.date_range(start_date, end_date, freq='D')\n",
    "\n",
    "# Sample menu items\n",
    "menu_items = [\n",
    "    {\"name\": \"Grilled Chicken\", \"category\": \"Main Course\", \"price\": 850, \"cost\": 420},\n",
    "    {\"name\": \"Beef Burger\", \"category\": \"Main Course\", \"price\": 650, \"cost\": 200},\n",
    "    {\"name\": \"Vegetable Stir Fry\", \"category\": \"Main Course\", \"price\": 500, \"cost\": 180},\n",
    "    {\"name\": \"Margherita Pizza\", \"category\": \"Main Course\", \"price\": 750, \"cost\": 300},\n",
    "    {\"name\": \"Caesar Salad\", \"category\": \"Appetizer\", \"price\": 400, \"cost\": 150},\n",
    "    {\"name\": \"French Fries\", \"category\": \"Appetizer\", \"price\": 300, \"cost\": 120},\n",
    "    {\"name\": \"Tomato Soup\", \"category\": \"Appetizer\", \"price\": 350, \"cost\": 130},\n",
    "    {\"name\": \"Chocolate Cake\", \"category\": \"Dessert\", \"price\": 500, \"cost\": 220},\n",
    "    {\"name\": \"Fruit Salad\", \"category\": \"Dessert\", \"price\": 450, \"cost\": 200},\n",
    "    {\"name\": \"Vanilla Ice Cream\", \"category\": \"Dessert\", \"price\": 400, \"cost\": 180},\n",
    "    {\"name\": \"Fresh Juice\", \"category\": \"Beverage\", \"price\": 300, \"cost\": 100},\n",
    "    {\"name\": \"Soda\", \"category\": \"Beverage\", \"price\": 200, \"cost\": 60},\n",
    "    {\"name\": \"Bottled Water\", \"category\": \"Beverage\", \"price\": 150, \"cost\": 40}\n",
    "]\n",
    "\n",
    "# Generate data\n",
    "records = []\n",
    "for date in dates:\n",
    "    for item in menu_items:\n",
    "        quantity_sold = np.random.poisson(lam=random.uniform(3, 15))  # average daily sales\n",
    "        revenue = item[\"price\"] * quantity_sold\n",
    "        profit = (item[\"price\"] - item[\"cost\"]) * quantity_sold\n",
    "        records.append({\n",
    "            \"Date\": date.strftime('%Y-%m-%d'),\n",
    "            \"Item Name\": item[\"name\"],\n",
    "            \"Category\": item[\"category\"],\n",
    "            \"Unit Price\": item[\"price\"],\n",
    "            \"Cost Price\": item[\"cost\"],\n",
    "            \"Quantity Sold\": quantity_sold,\n",
    "            \"Revenue\": revenue,\n",
    "            \"Gross Profit\": profit\n",
    "        })\n",
    "\n",
    "df = pd.DataFrame(records)\n",
    "df.head()"
   ]
  },
  {
   "cell_type": "code",
   "execution_count": 6,
   "id": "fc203392",
   "metadata": {},
   "outputs": [],
   "source": [
    "# Save to CSV\n",
    "import os\n",
    "import pathlib\n",
    "output_dir = pathlib.Path(\"data\")\n",
    "output_dir.mkdir(parents=True, exist_ok=True)\n",
    "output_file = output_dir / \"restaurant_sales_data.csv\"\n",
    "df.to_csv(output_file, index=False)"
   ]
  }
 ],
 "metadata": {
  "kernelspec": {
   "display_name": "learn-env",
   "language": "python",
   "name": "python3"
  },
  "language_info": {
   "codemirror_mode": {
    "name": "ipython",
    "version": 3
   },
   "file_extension": ".py",
   "mimetype": "text/x-python",
   "name": "python",
   "nbconvert_exporter": "python",
   "pygments_lexer": "ipython3",
   "version": "3.8.5"
  }
 },
 "nbformat": 4,
 "nbformat_minor": 5
}
